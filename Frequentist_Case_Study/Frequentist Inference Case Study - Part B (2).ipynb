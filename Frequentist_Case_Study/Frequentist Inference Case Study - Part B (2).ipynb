{
 "cells": [
  {
   "cell_type": "markdown",
   "metadata": {},
   "source": [
    "# Frequentist Inference Case Study - Part B"
   ]
  },
  {
   "cell_type": "markdown",
   "metadata": {},
   "source": [
    "## Learning objectives"
   ]
  },
  {
   "cell_type": "markdown",
   "metadata": {},
   "source": [
    "Welcome to Part B of the Frequentist inference case study! The purpose of this case study is to help you apply the concepts associated with Frequentist inference in Python. In particular, you'll practice writing Python code to apply the following statistical concepts: \n",
    "* the _z_-statistic\n",
    "* the _t_-statistic\n",
    "* the difference and relationship between the two\n",
    "* the Central Limit Theorem, including its assumptions and consequences\n",
    "* how to estimate the population mean and standard deviation from a sample\n",
    "* the concept of a sampling distribution of a test statistic, particularly for the mean\n",
    "* how to combine these concepts to calculate a confidence interval"
   ]
  },
  {
   "cell_type": "markdown",
   "metadata": {},
   "source": [
    "In the previous notebook, we used only data from a known normal distribution. **You'll now tackle real data, rather than simulated data, and answer some relevant real-world business problems using the data.**"
   ]
  },
  {
   "cell_type": "markdown",
   "metadata": {},
   "source": [
    "## Hospital medical charges"
   ]
  },
  {
   "cell_type": "markdown",
   "metadata": {},
   "source": [
    "Imagine that a hospital has hired you as their data scientist. An administrator is working on the hospital's business operations plan and needs you to help them answer some business questions. \n",
    "\n",
    "In this assignment notebook, you're going to use frequentist statistical inference on a data sample to answer the questions:\n",
    "* has the hospital's revenue stream fallen below a key threshold?\n",
    "* are patients with insurance really charged different amounts than those without?\n",
    "\n",
    "Answering that last question with a frequentist approach makes some assumptions, and requires some knowledge, about the two groups."
   ]
  },
  {
   "cell_type": "markdown",
   "metadata": {},
   "source": [
    "We are going to use some data on medical charges obtained from [Kaggle](https://www.kaggle.com/easonlai/sample-insurance-claim-prediction-dataset). \n",
    "\n",
    "For the purposes of this exercise, assume the observations are the result of random sampling from our single hospital. Recall that in the previous assignment, we introduced the Central Limit Theorem (CLT), and its consequence that the distributions of sample statistics approach a normal distribution as $n$ increases. The amazing thing about this is that it applies to the sampling distributions of statistics that have been calculated from even highly non-normal distributions of data! Recall, also, that hypothesis testing is very much based on making inferences about such sample statistics. You're going to rely heavily on the CLT to apply frequentist (parametric) tests to answer the questions in this notebook."
   ]
  },
  {
   "cell_type": "code",
   "execution_count": 2,
   "metadata": {},
   "outputs": [],
   "source": [
    "import pandas as pd\n",
    "import numpy as np\n",
    "import matplotlib.pyplot as plt\n",
    "from scipy.stats import t\n",
    "from numpy.random import seed\n",
    "medical = pd.read_csv('insurance2.csv')"
   ]
  },
  {
   "cell_type": "code",
   "execution_count": 3,
   "metadata": {},
   "outputs": [
    {
     "data": {
      "text/plain": [
       "(1338, 8)"
      ]
     },
     "execution_count": 3,
     "metadata": {},
     "output_type": "execute_result"
    }
   ],
   "source": [
    "medical.shape"
   ]
  },
  {
   "cell_type": "code",
   "execution_count": 4,
   "metadata": {},
   "outputs": [
    {
     "data": {
      "text/html": [
       "<div>\n",
       "<style scoped>\n",
       "    .dataframe tbody tr th:only-of-type {\n",
       "        vertical-align: middle;\n",
       "    }\n",
       "\n",
       "    .dataframe tbody tr th {\n",
       "        vertical-align: top;\n",
       "    }\n",
       "\n",
       "    .dataframe thead th {\n",
       "        text-align: right;\n",
       "    }\n",
       "</style>\n",
       "<table border=\"1\" class=\"dataframe\">\n",
       "  <thead>\n",
       "    <tr style=\"text-align: right;\">\n",
       "      <th></th>\n",
       "      <th>age</th>\n",
       "      <th>sex</th>\n",
       "      <th>bmi</th>\n",
       "      <th>children</th>\n",
       "      <th>smoker</th>\n",
       "      <th>region</th>\n",
       "      <th>charges</th>\n",
       "      <th>insuranceclaim</th>\n",
       "    </tr>\n",
       "  </thead>\n",
       "  <tbody>\n",
       "    <tr>\n",
       "      <th>0</th>\n",
       "      <td>19</td>\n",
       "      <td>0</td>\n",
       "      <td>27.900</td>\n",
       "      <td>0</td>\n",
       "      <td>1</td>\n",
       "      <td>3</td>\n",
       "      <td>16884.92400</td>\n",
       "      <td>1</td>\n",
       "    </tr>\n",
       "    <tr>\n",
       "      <th>1</th>\n",
       "      <td>18</td>\n",
       "      <td>1</td>\n",
       "      <td>33.770</td>\n",
       "      <td>1</td>\n",
       "      <td>0</td>\n",
       "      <td>2</td>\n",
       "      <td>1725.55230</td>\n",
       "      <td>1</td>\n",
       "    </tr>\n",
       "    <tr>\n",
       "      <th>2</th>\n",
       "      <td>28</td>\n",
       "      <td>1</td>\n",
       "      <td>33.000</td>\n",
       "      <td>3</td>\n",
       "      <td>0</td>\n",
       "      <td>2</td>\n",
       "      <td>4449.46200</td>\n",
       "      <td>0</td>\n",
       "    </tr>\n",
       "    <tr>\n",
       "      <th>3</th>\n",
       "      <td>33</td>\n",
       "      <td>1</td>\n",
       "      <td>22.705</td>\n",
       "      <td>0</td>\n",
       "      <td>0</td>\n",
       "      <td>1</td>\n",
       "      <td>21984.47061</td>\n",
       "      <td>0</td>\n",
       "    </tr>\n",
       "    <tr>\n",
       "      <th>4</th>\n",
       "      <td>32</td>\n",
       "      <td>1</td>\n",
       "      <td>28.880</td>\n",
       "      <td>0</td>\n",
       "      <td>0</td>\n",
       "      <td>1</td>\n",
       "      <td>3866.85520</td>\n",
       "      <td>1</td>\n",
       "    </tr>\n",
       "  </tbody>\n",
       "</table>\n",
       "</div>"
      ],
      "text/plain": [
       "   age  sex     bmi  children  smoker  region      charges  insuranceclaim\n",
       "0   19    0  27.900         0       1       3  16884.92400               1\n",
       "1   18    1  33.770         1       0       2   1725.55230               1\n",
       "2   28    1  33.000         3       0       2   4449.46200               0\n",
       "3   33    1  22.705         0       0       1  21984.47061               0\n",
       "4   32    1  28.880         0       0       1   3866.85520               1"
      ]
     },
     "execution_count": 4,
     "metadata": {},
     "output_type": "execute_result"
    }
   ],
   "source": [
    "medical.head()"
   ]
  },
  {
   "cell_type": "markdown",
   "metadata": {},
   "source": [
    "__Q1:__ Plot the histogram of charges and calculate the mean and standard deviation. Comment on the appropriateness of these statistics for the data."
   ]
  },
  {
   "cell_type": "markdown",
   "metadata": {},
   "source": [
    "__A:__"
   ]
  },
  {
   "cell_type": "code",
   "execution_count": 6,
   "metadata": {},
   "outputs": [
    {
     "data": {
      "image/png": "[encoded data removed]",
      "text/plain": [
       "<Figure size 1000x600 with 1 Axes>"
      ]
     },
     "metadata": {},
     "output_type": "display_data"
    }
   ],
   "source": [
    "# Plot the histogram of charges\n",
    "plt.figure(figsize=(10, 6))\n",
    "plt.hist(medical['charges'], bins=30, color='skyblue', edgecolor='black', alpha=0.7)\n",
    "plt.title('Histogram of Charges')\n",
    "plt.xlabel('Charges')\n",
    "plt.ylabel('Frequency')\n",
    "plt.grid(True)\n",
    "plt.show()"
   ]
  },
  {
   "cell_type": "code",
   "execution_count": 7,
   "metadata": {},
   "outputs": [
    {
     "name": "stdout",
     "output_type": "stream",
     "text": [
      "Mean of charges: 13270.422265141257\n",
      "Standard deviation of charges: 12105.484975561605\n"
     ]
    }
   ],
   "source": [
    "# Calculate the mean and standard deviation of charges\n",
    "charges_mean = np.mean(medical['charges'])\n",
    "charges_std_dev = np.std(medical['charges'])\n",
    "\n",
    "# Comment on the appropriateness of these statistics\n",
    "print(\"Mean of charges:\", charges_mean)\n",
    "print(\"Standard deviation of charges:\", charges_std_dev)\n",
    "\n",
    "# Comment: The histogram of charges appears to be right-skewed, indicating that the distribution is not symmetric.\n",
    "# In such cases, the mean may be influenced by outliers and may not fully represent the central tendency of the data.\n",
    "# Additionally, the standard deviation, being a measure of spread, may be sensitive to the presence of outliers,\n",
    "# potentially leading to an overestimation of variability in the data."
   ]
  },
  {
   "cell_type": "markdown",
   "metadata": {},
   "source": [
    "__Q2:__ The administrator is concerned that the actual average charge has fallen below 12,000, threatening the hospital's operational model. On the assumption that these data represent a random sample of charges, how would you justify that these data allow you to answer that question? And what would be the most appropriate frequentist test, of the ones discussed so far, to apply?"
   ]
  },
  {
   "cell_type": "markdown",
   "metadata": {},
   "source": [
    "__A:__ To justify the use of these data to answer the administrator's concern about the actual average charge falling below $12,000, we need to consider the following points:\n",
    "\n",
    "1. **Random Sample**: Random sampling helps ensure that the sample is representative of the population of interest and reduces the risk of bias in the estimates.\n",
    "\n",
    "2. **Independence**: Each charge in the dataset is assumed to be independent of others. This assumption is essential for conducting statistical tests and making inferences about the population based on the sample.\n",
    "\n",
    "3. **Sample Size**: The sample size should be sufficiently large to apply frequentist tests. Having a larger sample size generally increases the reliability of the results.\n",
    "\n",
    "4. **Population Variance**: If the population variance is unknown, the t-test is often more appropriate than the z-test for hypothesis testing. The t-test does not require knowledge of the population variance and can handle situations where the data may not perfectly follow a normal distribution., especially for larger sample sizes.\n",
    "\n",
    "The most appropriate frequentist test to apply in this scenario would be the one-sample t-test. The one-sample t-test compares the mean of a sample to a known or hypothesized population mean and determines whether there is a statistically significant difference between them. In this case, we would compare the sample mean of charges to the hypothesized population mean of $12,000 to assess whether the actual average charge has fallen below this threshold.\n",
    "\n"
   ]
  },
  {
   "cell_type": "markdown",
   "metadata": {},
   "source": [
    "__Q3:__ Given the nature of the administrator's concern, what is the appropriate confidence interval in this case? A ***one-sided*** or ***two-sided*** interval? (Refresh your understanding of this concept on p. 399 of the *AoS*). Calculate the critical value and the relevant 95% confidence interval for the mean, and comment on whether the administrator should be concerned."
   ]
  },
  {
   "cell_type": "markdown",
   "metadata": {},
   "source": [
    "__A:__ the appropriate confidence interval would be a one-sided interval because the focus is only on determining whether the average charge is less than $12,000, rather than both less than and greater than."
   ]
  },
  {
   "cell_type": "code",
   "execution_count": 8,
   "metadata": {},
   "outputs": [
    {
     "name": "stdout",
     "output_type": "stream",
     "text": [
      "Critical t-value: -1.6459941145571324\n",
      "95% Confidence Interval Lower Bound: 13815.15367048035\n"
     ]
    }
   ],
   "source": [
    "# Step 1: Determine the degrees of freedom\n",
    "df = len(medical['charges']) - 1\n",
    "\n",
    "# Step 2: Find the critical t-value for a one-sided 95% confidence interval\n",
    "alpha = 0.05  # significance level for a 95% confidence interval\n",
    "t_critical = t.ppf(alpha, df)\n",
    "\n",
    "# Step 3: Calculate the margin of error\n",
    "standard_error_mean = charges_std_dev / np.sqrt(len(medical['charges']))\n",
    "margin_of_error = t_critical * standard_error_mean\n",
    "\n",
    "# Step 4: Calculate the lower bound of the one-sided confidence interval\n",
    "confidence_interval_lower = charges_mean - margin_of_error\n",
    "\n",
    "# Print the results\n",
    "print(\"Critical t-value:\", t_critical)\n",
    "print(\"95% Confidence Interval Lower Bound:\", confidence_interval_lower)\n"
   ]
  },
  {
   "cell_type": "markdown",
   "metadata": {},
   "source": [
    "* Based on the sample data and the calculated confidence interval, there is strong evidence to suggest that the average charge at the hospital is not below $12,000."
   ]
  },
  {
   "cell_type": "code",
   "execution_count": null,
   "metadata": {},
   "outputs": [],
   "source": []
  },
  {
   "cell_type": "markdown",
   "metadata": {},
   "source": [
    "The administrator then wants to know whether people with insurance really are charged a different amount to those without.\n",
    "\n",
    "__Q4:__ State the null and alternative hypothesis here. Use the _t_-test for the difference between means, where the pooled standard deviation of the two groups is given by:\n",
    "\\begin{equation}\n",
    "s_p = \\sqrt{\\frac{(n_0 - 1)s^2_0 + (n_1 - 1)s^2_1}{n_0 + n_1 - 2}}\n",
    "\\end{equation}\n",
    "\n",
    "and the *t*-test statistic is then given by:\n",
    "\n",
    "\\begin{equation}\n",
    "t = \\frac{\\bar{x}_0 - \\bar{x}_1}{s_p \\sqrt{1/n_0 + 1/n_1}}.\n",
    "\\end{equation}\n",
    "\n",
    "(If you need some reminding of the general definition of ***t-statistic***, check out the definition on p. 404 of *AoS*). \n",
    "\n",
    "What assumption about the variances of the two groups are we making here?"
   ]
  },
  {
   "cell_type": "markdown",
   "metadata": {},
   "source": [
    "__A:__ \n",
    "* Null Hypothesis: People with insurance are charged the same amount as those without insurance.\n",
    "* Alternative Hypothesis: People with insurance are charged a different amount compared to those without insurance.\n",
    "* We are assuming that the variances of the two groups (insured and uninsured) are equal--homogeneity."
   ]
  },
  {
   "cell_type": "markdown",
   "metadata": {},
   "source": [
    "__Q5:__ Perform this hypothesis test both manually, using the above formulae, and then using the appropriate function from [scipy.stats](https://docs.scipy.org/doc/scipy/reference/stats.html#statistical-tests) (hint, you're looking for a function to perform a _t_-test on two independent samples). For the manual approach, calculate the value of the test statistic and then its probability (the p-value). Verify you get the same results from both."
   ]
  },
  {
   "cell_type": "markdown",
   "metadata": {},
   "source": [
    "__A:__ Manual Approach:\n",
    "\n",
    "1. Calculate the sample means and standard deviations for the insured and uninsured groups.\n",
    "2. Calculate the pooled standard deviation using the formula provided.\n",
    "3. Calculate the t-test statistic using the formula provided.\n",
    "4. Determine the degrees of freedom for the t-distribution.\n",
    "5. Calculate the p-value using the cumulative distribution function (CDF) of the t-distribution.\n",
    "6. Interpret the results."
   ]
  },
  {
   "cell_type": "code",
   "execution_count": 12,
   "metadata": {},
   "outputs": [
    {
     "name": "stdout",
     "output_type": "stream",
     "text": [
      "Manual Approach - t-statistic: 11.893299030876715 p-value: 1.0\n"
     ]
    }
   ],
   "source": [
    "# Manual Approach\n",
    "# Calculate sample statistics for insured and uninsured groups\n",
    "mean_insured = medical[medical['insuranceclaim'] == 1]['charges'].mean()\n",
    "std_insured = medical[medical['insuranceclaim'] == 1]['charges'].std()\n",
    "n_insured = len(medical[medical['insuranceclaim'] == 1])\n",
    "\n",
    "mean_uninsured = medical[medical['insuranceclaim'] == 0]['charges'].mean()\n",
    "std_uninsured = medical[medical['insuranceclaim'] == 0]['charges'].std()\n",
    "n_uninsured = len(medical[medical['insuranceclaim'] == 0])\n",
    "\n",
    "# Calculate pooled standard deviation\n",
    "pooled_std = np.sqrt(((n_insured - 1) * std_insured**2 + (n_uninsured - 1) * std_uninsured**2) / (n_insured + n_uninsured - 2))\n",
    "\n",
    "# Calculate t-test statistic\n",
    "t_statistic_manual = (mean_insured - mean_uninsured) / (pooled_std * np.sqrt(1 / n_insured + 1 / n_uninsured))\n",
    "\n",
    "# Determine degrees of freedom\n",
    "df_manual = n_insured + n_uninsured - 2\n",
    "\n",
    "# Calculate p-value\n",
    "p_value_manual = t.cdf(t_statistic_manual, df_manual)\n",
    "\n",
    "# Print results\n",
    "print(\"Manual Approach - t-statistic:\", t_statistic_manual, \"p-value:\", p_value_manual)"
   ]
  },
  {
   "cell_type": "code",
   "execution_count": 11,
   "metadata": {},
   "outputs": [
    {
     "name": "stdout",
     "output_type": "stream",
     "text": [
      "Using scipy.stats - t-statistic: 11.893299030876712 p-value: 4.461230231620717e-31\n"
     ]
    }
   ],
   "source": [
    "# Using scipy.stats\n",
    "from scipy.stats import ttest_ind\n",
    "\n",
    "# Perform t-test\n",
    "t_statistic_scipy, p_value_scipy = ttest_ind(medical[medical['insuranceclaim'] == 1]['charges'],\n",
    "                                             medical[medical['insuranceclaim'] == 0]['charges'])\n",
    "\n",
    "# Print results\n",
    "print(\"Using scipy.stats - t-statistic:\", t_statistic_scipy, \"p-value:\", p_value_scipy)"
   ]
  },
  {
   "cell_type": "code",
   "execution_count": 13,
   "metadata": {},
   "outputs": [
    {
     "name": "stdout",
     "output_type": "stream",
     "text": [
      "Corrected Manual Approach - t-statistic: 11.893299030876715 p-value: 0.0\n"
     ]
    }
   ],
   "source": [
    "# P Value was signifcantly different; \n",
    "\n",
    "# Calculate p-value\n",
    "p_value_manual = 2 * (1 - t.cdf(np.abs(t_statistic_manual), df_manual))\n",
    "\n",
    "# Print corrected p-value from the manual approach\n",
    "print(\"Corrected Manual Approach - t-statistic:\", t_statistic_manual, \"p-value:\", p_value_manual)\n"
   ]
  },
  {
   "cell_type": "markdown",
   "metadata": {},
   "source": [
    "* Corrected manual approach now yields a p-value of 0.0, indicating extremely strong evidence against the null hypothesis. This is consistent with the result obtained using scipy.stats.\n",
    "* Overall, both approaches lead to the same conclusion: we reject the null hypothesis in favor of the alternative hypothesis. Therefore, there is strong evidence to suggest that people with insurance are charged a different amount compared to those without insurance."
   ]
  },
  {
   "cell_type": "markdown",
   "metadata": {},
   "source": [
    "Congratulations! Hopefully you got the exact same numerical results. This shows that you correctly calculated the numbers by hand. Secondly, you used the correct function and saw that it's much easier to use. All you need to do is pass your data to it."
   ]
  },
  {
   "cell_type": "markdown",
   "metadata": {},
   "source": [
    "__Q6:__ Conceptual question: look through the documentation for statistical test functions in scipy.stats. You'll see the above _t_-test for a sample, but can you see an equivalent one for performing a *z*-test from a sample? Comment on your answer."
   ]
  },
  {
   "cell_type": "markdown",
   "metadata": {},
   "source": [
    "__A:__ \n",
    "Since the z-test formula is straightforward to compute manually, there isn't a dedicated function for it in `scipy.stats`. Instead, you can use general-purpose functions like `norm.cdf()` or `norm.sf()` (survival function) to calculate probabilities associated with the standard normal distribution.\n",
    "\n",
    "\\begin{equation}\n",
    "Z = \\frac{\\bar{x} - μ}{σ / √n}.\n",
    "\\end{equation}\n",
    "\n",
    "\n",
    " \n",
    "\n"
   ]
  },
  {
   "cell_type": "markdown",
   "metadata": {},
   "source": [
    "## Learning outcomes"
   ]
  },
  {
   "cell_type": "markdown",
   "metadata": {},
   "source": [
    "Having completed this project notebook, you now have good hands-on experience:\n",
    "* using the central limit theorem to help you apply frequentist techniques to answer questions that pertain to very non-normally distributed data from the real world\n",
    "* performing inference using such data to answer business questions\n",
    "* forming a hypothesis and framing the null and alternative hypotheses\n",
    "* testing this using a _t_-test"
   ]
  }
 ],
 "metadata": {
  "kernelspec": {
   "display_name": "Python 3 (ipykernel)",
   "language": "python",
   "name": "python3"
  },
  "language_info": {
   "codemirror_mode": {
    "name": "ipython",
    "version": 3
   },
   "file_extension": ".py",
   "mimetype": "text/x-python",
   "name": "python",
   "nbconvert_exporter": "python",
   "pygments_lexer": "ipython3",
   "version": "3.11.7"
  }
 },
 "nbformat": 4,
 "nbformat_minor": 4
}
